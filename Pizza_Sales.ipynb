{
 "cells": [
  {
   "cell_type": "code",
   "execution_count": 13,
   "id": "9e4f2703-3eb6-4bd8-bb11-0489dd76af41",
   "metadata": {},
   "outputs": [],
   "source": [
    "import pandas as pd\n",
    "import numpy  as np\n",
    "import matplotlib.pyplot as plt\n",
    "import mysql.connector\n",
    "\n",
    "db=mysql.connector.connect(\n",
    "host='localhost',\n",
    "user='root',\n",
    "password='narayan1998',\n",
    "database='pizzahut'\n",
    "    )\n",
    "\n",
    "cur = db.cursor()"
   ]
  },
  {
   "cell_type": "markdown",
   "id": "ae565e0b-9f74-42c6-91e2-3071770d108e",
   "metadata": {},
   "source": [
    "#  Retrieve the total number of orders placed."
   ]
  },
  {
   "cell_type": "code",
   "execution_count": 57,
   "id": "92d2a454-5d3c-4962-b816-b43ba1c754ad",
   "metadata": {},
   "outputs": [
    {
     "data": {
      "text/html": [
       "<div>\n",
       "<style scoped>\n",
       "    .dataframe tbody tr th:only-of-type {\n",
       "        vertical-align: middle;\n",
       "    }\n",
       "\n",
       "    .dataframe tbody tr th {\n",
       "        vertical-align: top;\n",
       "    }\n",
       "\n",
       "    .dataframe thead th {\n",
       "        text-align: right;\n",
       "    }\n",
       "</style>\n",
       "<table border=\"1\" class=\"dataframe\">\n",
       "  <thead>\n",
       "    <tr style=\"text-align: right;\">\n",
       "      <th></th>\n",
       "      <th>Total Number of Order</th>\n",
       "    </tr>\n",
       "  </thead>\n",
       "  <tbody>\n",
       "    <tr>\n",
       "      <th>0</th>\n",
       "      <td>21350</td>\n",
       "    </tr>\n",
       "  </tbody>\n",
       "</table>\n",
       "</div>"
      ],
      "text/plain": [
       "   Total Number of Order\n",
       "0                  21350"
      ]
     },
     "execution_count": 57,
     "metadata": {},
     "output_type": "execute_result"
    }
   ],
   "source": [
    "query=\"\"\"select count(order_id)\n",
    "from orders\"\"\"\n",
    "\n",
    "cur.execute(query)\n",
    "\n",
    "data = cur.fetchall()\n",
    "\n",
    "df = pd.DataFrame(data,columns = [\"Total Number of Order\"])\n",
    "df.head()"
   ]
  },
  {
   "cell_type": "markdown",
   "id": "03369014-767d-4367-a97d-9e6e9898cbda",
   "metadata": {},
   "source": [
    "#  Calculate the total revenue generated from pizza sales."
   ]
  },
  {
   "cell_type": "code",
   "execution_count": 24,
   "id": "5d9fedde-01d7-4b1f-9b4c-d58cb919a211",
   "metadata": {},
   "outputs": [
    {
     "data": {
      "text/html": [
       "<div>\n",
       "<style scoped>\n",
       "    .dataframe tbody tr th:only-of-type {\n",
       "        vertical-align: middle;\n",
       "    }\n",
       "\n",
       "    .dataframe tbody tr th {\n",
       "        vertical-align: top;\n",
       "    }\n",
       "\n",
       "    .dataframe thead th {\n",
       "        text-align: right;\n",
       "    }\n",
       "</style>\n",
       "<table border=\"1\" class=\"dataframe\">\n",
       "  <thead>\n",
       "    <tr style=\"text-align: right;\">\n",
       "      <th></th>\n",
       "      <th>Revenue</th>\n",
       "    </tr>\n",
       "  </thead>\n",
       "  <tbody>\n",
       "    <tr>\n",
       "      <th>0</th>\n",
       "      <td>817860.05</td>\n",
       "    </tr>\n",
       "  </tbody>\n",
       "</table>\n",
       "</div>"
      ],
      "text/plain": [
       "     Revenue\n",
       "0  817860.05"
      ]
     },
     "execution_count": 24,
     "metadata": {},
     "output_type": "execute_result"
    }
   ],
   "source": [
    "query = \"\"\"select  round(sum(od.quantity*p.price ),2) as Total_revenue\n",
    "from order_details od \n",
    "join pizzas p on od.pizza_id = p.pizza_id\"\"\"\n",
    "\n",
    "cur.execute(query)\n",
    "data = cur.fetchall()\n",
    "\n",
    "df = pd.DataFrame(data,columns =[\"Revenue\"])\n",
    "df"
   ]
  },
  {
   "cell_type": "markdown",
   "id": "5e45b15a-18b5-4733-a89b-debd9fe29adb",
   "metadata": {},
   "source": [
    "#  Identify the highest-priced pizza."
   ]
  },
  {
   "cell_type": "code",
   "execution_count": 56,
   "id": "14bfd2c0-b724-4442-9c01-d9673a8a8896",
   "metadata": {},
   "outputs": [
    {
     "data": {
      "text/html": [
       "<div>\n",
       "<style scoped>\n",
       "    .dataframe tbody tr th:only-of-type {\n",
       "        vertical-align: middle;\n",
       "    }\n",
       "\n",
       "    .dataframe tbody tr th {\n",
       "        vertical-align: top;\n",
       "    }\n",
       "\n",
       "    .dataframe thead th {\n",
       "        text-align: right;\n",
       "    }\n",
       "</style>\n",
       "<table border=\"1\" class=\"dataframe\">\n",
       "  <thead>\n",
       "    <tr style=\"text-align: right;\">\n",
       "      <th></th>\n",
       "      <th>Pizzas Name</th>\n",
       "      <th>Highest Price</th>\n",
       "    </tr>\n",
       "  </thead>\n",
       "  <tbody>\n",
       "    <tr>\n",
       "      <th>0</th>\n",
       "      <td>The Greek Pizza</td>\n",
       "      <td>35.95</td>\n",
       "    </tr>\n",
       "  </tbody>\n",
       "</table>\n",
       "</div>"
      ],
      "text/plain": [
       "       Pizzas Name  Highest Price\n",
       "0  The Greek Pizza          35.95"
      ]
     },
     "execution_count": 56,
     "metadata": {},
     "output_type": "execute_result"
    }
   ],
   "source": [
    "query =\"\"\"select pt.name as Pizzas_Name,(p.price) as Highest_Price\n",
    "from pizzas p\n",
    "join pizza_types pt on p.pizza_type_id = pt.pizza_type_id\n",
    "order by price desc\n",
    "limit 1 \"\"\"\n",
    "\n",
    "cur.execute(query)\n",
    "data = cur.fetchall()\n",
    "df = pd.DataFrame(data,columns = [\"Pizzas Name\",\"Highest Price\"])\n",
    "df.head()"
   ]
  },
  {
   "cell_type": "markdown",
   "id": "01d99aa6-aebb-4cbd-95b4-3990ed0df4cf",
   "metadata": {},
   "source": [
    "#  Identify the most common pizza size ordered."
   ]
  },
  {
   "cell_type": "code",
   "execution_count": 55,
   "id": "133ec8b9-15cd-4e17-a570-f662c3d30694",
   "metadata": {},
   "outputs": [
    {
     "data": {
      "text/html": [
       "<div>\n",
       "<style scoped>\n",
       "    .dataframe tbody tr th:only-of-type {\n",
       "        vertical-align: middle;\n",
       "    }\n",
       "\n",
       "    .dataframe tbody tr th {\n",
       "        vertical-align: top;\n",
       "    }\n",
       "\n",
       "    .dataframe thead th {\n",
       "        text-align: right;\n",
       "    }\n",
       "</style>\n",
       "<table border=\"1\" class=\"dataframe\">\n",
       "  <thead>\n",
       "    <tr style=\"text-align: right;\">\n",
       "      <th></th>\n",
       "      <th>Pizza Size</th>\n",
       "      <th>Count Order</th>\n",
       "    </tr>\n",
       "  </thead>\n",
       "  <tbody>\n",
       "    <tr>\n",
       "      <th>0</th>\n",
       "      <td>L</td>\n",
       "      <td>18526</td>\n",
       "    </tr>\n",
       "  </tbody>\n",
       "</table>\n",
       "</div>"
      ],
      "text/plain": [
       "  Pizza Size  Count Order\n",
       "0          L        18526"
      ]
     },
     "execution_count": 55,
     "metadata": {},
     "output_type": "execute_result"
    }
   ],
   "source": [
    "query = \"\"\"SELECT p.size, COUNT(od.order_details_id) AS count_order\n",
    "FROM pizzas p\n",
    "JOIN order_details od ON p.pizza_id = od.pizza_id\n",
    "group by size\n",
    "ORDER BY count_order DESC\n",
    "LIMIT 1 \"\"\"\n",
    "\n",
    "cur.execute (query)\n",
    "data = cur.fetchall()\n",
    "df = pd.DataFrame(data,columns = [\"Pizza Size\",\"Count Order\"])\n",
    "df.head()"
   ]
  },
  {
   "cell_type": "markdown",
   "id": "85add582-80df-4755-8455-9be868b44d74",
   "metadata": {},
   "source": [
    "#  List the top 5 most ordered pizza types along with their quantities."
   ]
  },
  {
   "cell_type": "code",
   "execution_count": 65,
   "id": "03655d22-54c7-49a0-88b7-e1df05f4828a",
   "metadata": {},
   "outputs": [
    {
     "data": {
      "image/png": "[encoded data removed]",
      "text/plain": [
       "<Figure size 640x480 with 1 Axes>"
      ]
     },
     "metadata": {},
     "output_type": "display_data"
    }
   ],
   "source": [
    "query =\"\"\"SELECT sum(od.quantity) as quantity ,pt.name as Name\n",
    "from pizza_types pt\n",
    "join pizzas on pt.pizza_type_id = pizzas.pizza_type_id\n",
    "join order_details od on od.pizza_id = pizzas.pizza_id\n",
    "group by Name \n",
    "order by quantity desc\n",
    "limit 5\"\"\"\n",
    "\n",
    "cur.execute (query)\n",
    "data = cur.fetchall()\n",
    "df = pd.DataFrame(data,columns = [\"Quantity\",\"Pizzas Name\"])\n",
    "#df.head()\n",
    "\n",
    "x = np.array([\"The Classic Deluxe Pizza\", \"The Barbecue Chicken Pizza\", \"The Hawaiian Pizza\", \"The Pepperoni Pizza\",\"The Thai Chicken Pizza\"])\n",
    "y = np.array([2453, 2432,2422, 2418,2371])\n",
    "\n",
    "plt.bar(x,y, width=0.1, color=\"red\")\n",
    "plt.show()\n",
    "\n"
   ]
  },
  {
   "cell_type": "markdown",
   "id": "069fa199-4b3a-418b-bed9-644ed9cfe2b6",
   "metadata": {},
   "source": [
    "#  Join the necessary tables to find the total quantity of each pizza category ordered."
   ]
  },
  {
   "cell_type": "code",
   "execution_count": 67,
   "id": "f5b41d86-6869-4342-96fd-914523f4791a",
   "metadata": {},
   "outputs": [
    {
     "data": {
      "image/png": "[encoded data removed]",
      "text/plain": [
       "<Figure size 640x480 with 1 Axes>"
      ]
     },
     "metadata": {},
     "output_type": "display_data"
    }
   ],
   "source": [
    "query =\"\"\"SELECT pt.category as category, sum(od.quantity) as quantity \n",
    "from pizza_types pt\n",
    "join pizzas on pt.pizza_type_id = pizzas.pizza_type_id\n",
    "join order_details od on od.pizza_id = pizzas.pizza_id\n",
    "group by category\n",
    "order by quantity desc\"\"\"\n",
    "\n",
    "cur.execute(query)\n",
    "data = cur.fetchall()\n",
    "df = pd.DataFrame(data,columns =[\"Category\",\"Quantity\"])\n",
    "#df.head()\n",
    "\n",
    "y = np.array([14888, 11987, 11649, 11050])\n",
    "mylabels = [\"Classic\",\"Supreme\",\"Veggie\",\"Chicken\"]\n",
    "myexplode = [0.2, 0, 0, 0]\n",
    "plt.pie(y, labels = mylabels, explode = myexplode)\n",
    "plt.show() \n",
    "\n"
   ]
  },
  {
   "cell_type": "markdown",
   "id": "834ebecc-a424-4167-8cb6-dcb23a34023e",
   "metadata": {},
   "source": [
    "#  Determine the distribution of orders by hour of the day."
   ]
  },
  {
   "cell_type": "code",
   "execution_count": 41,
   "id": "3135c30d-f463-40b6-a453-2c584e0c5614",
   "metadata": {},
   "outputs": [
    {
     "data": {
      "text/html": [
       "<div>\n",
       "<style scoped>\n",
       "    .dataframe tbody tr th:only-of-type {\n",
       "        vertical-align: middle;\n",
       "    }\n",
       "\n",
       "    .dataframe tbody tr th {\n",
       "        vertical-align: top;\n",
       "    }\n",
       "\n",
       "    .dataframe thead th {\n",
       "        text-align: right;\n",
       "    }\n",
       "</style>\n",
       "<table border=\"1\" class=\"dataframe\">\n",
       "  <thead>\n",
       "    <tr style=\"text-align: right;\">\n",
       "      <th></th>\n",
       "      <th>Distribution</th>\n",
       "      <th>Per Day</th>\n",
       "    </tr>\n",
       "  </thead>\n",
       "  <tbody>\n",
       "    <tr>\n",
       "      <th>0</th>\n",
       "      <td>11</td>\n",
       "      <td>1231</td>\n",
       "    </tr>\n",
       "    <tr>\n",
       "      <th>1</th>\n",
       "      <td>12</td>\n",
       "      <td>2520</td>\n",
       "    </tr>\n",
       "    <tr>\n",
       "      <th>2</th>\n",
       "      <td>13</td>\n",
       "      <td>2455</td>\n",
       "    </tr>\n",
       "    <tr>\n",
       "      <th>3</th>\n",
       "      <td>14</td>\n",
       "      <td>1472</td>\n",
       "    </tr>\n",
       "    <tr>\n",
       "      <th>4</th>\n",
       "      <td>15</td>\n",
       "      <td>1468</td>\n",
       "    </tr>\n",
       "    <tr>\n",
       "      <th>5</th>\n",
       "      <td>16</td>\n",
       "      <td>1920</td>\n",
       "    </tr>\n",
       "    <tr>\n",
       "      <th>6</th>\n",
       "      <td>17</td>\n",
       "      <td>2336</td>\n",
       "    </tr>\n",
       "    <tr>\n",
       "      <th>7</th>\n",
       "      <td>18</td>\n",
       "      <td>2399</td>\n",
       "    </tr>\n",
       "    <tr>\n",
       "      <th>8</th>\n",
       "      <td>19</td>\n",
       "      <td>2009</td>\n",
       "    </tr>\n",
       "    <tr>\n",
       "      <th>9</th>\n",
       "      <td>20</td>\n",
       "      <td>1642</td>\n",
       "    </tr>\n",
       "    <tr>\n",
       "      <th>10</th>\n",
       "      <td>21</td>\n",
       "      <td>1198</td>\n",
       "    </tr>\n",
       "    <tr>\n",
       "      <th>11</th>\n",
       "      <td>22</td>\n",
       "      <td>663</td>\n",
       "    </tr>\n",
       "    <tr>\n",
       "      <th>12</th>\n",
       "      <td>23</td>\n",
       "      <td>28</td>\n",
       "    </tr>\n",
       "    <tr>\n",
       "      <th>13</th>\n",
       "      <td>10</td>\n",
       "      <td>8</td>\n",
       "    </tr>\n",
       "    <tr>\n",
       "      <th>14</th>\n",
       "      <td>9</td>\n",
       "      <td>1</td>\n",
       "    </tr>\n",
       "  </tbody>\n",
       "</table>\n",
       "</div>"
      ],
      "text/plain": [
       "    Distribution  Per Day\n",
       "0             11     1231\n",
       "1             12     2520\n",
       "2             13     2455\n",
       "3             14     1472\n",
       "4             15     1468\n",
       "5             16     1920\n",
       "6             17     2336\n",
       "7             18     2399\n",
       "8             19     2009\n",
       "9             20     1642\n",
       "10            21     1198\n",
       "11            22      663\n",
       "12            23       28\n",
       "13            10        8\n",
       "14             9        1"
      ]
     },
     "execution_count": 41,
     "metadata": {},
     "output_type": "execute_result"
    }
   ],
   "source": [
    "query =\"\"\"select hour(order_time) as Distribution ,count(order_id)as per_day\n",
    "from orders\n",
    "group by hour(order_time)\n",
    "\"\"\"\n",
    "\n",
    "cur.execute(query)\n",
    "data = cur.fetchall()\n",
    "df = pd.DataFrame(data,columns =[\"Distribution\",\"Per Day\"])\n",
    "df.head(15)\n",
    "\n"
   ]
  },
  {
   "cell_type": "markdown",
   "id": "ef2a2f66-ce43-49ca-bf2b-05ed0b9de128",
   "metadata": {},
   "source": [
    "#  Join relevant tables to find the category-wise distribution of pizzas."
   ]
  },
  {
   "cell_type": "code",
   "execution_count": 59,
   "id": "3fb22261-9932-4da2-8264-843dba49391e",
   "metadata": {},
   "outputs": [
    {
     "data": {
      "text/html": [
       "<div>\n",
       "<style scoped>\n",
       "    .dataframe tbody tr th:only-of-type {\n",
       "        vertical-align: middle;\n",
       "    }\n",
       "\n",
       "    .dataframe tbody tr th {\n",
       "        vertical-align: top;\n",
       "    }\n",
       "\n",
       "    .dataframe thead th {\n",
       "        text-align: right;\n",
       "    }\n",
       "</style>\n",
       "<table border=\"1\" class=\"dataframe\">\n",
       "  <thead>\n",
       "    <tr style=\"text-align: right;\">\n",
       "      <th></th>\n",
       "      <th>Category</th>\n",
       "      <th>Pizza_Types</th>\n",
       "    </tr>\n",
       "  </thead>\n",
       "  <tbody>\n",
       "    <tr>\n",
       "      <th>0</th>\n",
       "      <td>Chicken</td>\n",
       "      <td>6</td>\n",
       "    </tr>\n",
       "    <tr>\n",
       "      <th>1</th>\n",
       "      <td>Classic</td>\n",
       "      <td>8</td>\n",
       "    </tr>\n",
       "    <tr>\n",
       "      <th>2</th>\n",
       "      <td>Supreme</td>\n",
       "      <td>9</td>\n",
       "    </tr>\n",
       "    <tr>\n",
       "      <th>3</th>\n",
       "      <td>Veggie</td>\n",
       "      <td>9</td>\n",
       "    </tr>\n",
       "  </tbody>\n",
       "</table>\n",
       "</div>"
      ],
      "text/plain": [
       "  Category  Pizza_Types\n",
       "0  Chicken            6\n",
       "1  Classic            8\n",
       "2  Supreme            9\n",
       "3   Veggie            9"
      ]
     },
     "execution_count": 59,
     "metadata": {},
     "output_type": "execute_result"
    }
   ],
   "source": [
    "query =\"\"\"select pt.category ,count( pt.name) as pizza_types\n",
    "from pizza_types pt\n",
    "group by pt.category\"\"\"\n",
    "\n",
    "cur.execute(query)\n",
    "data = cur.fetchall()\n",
    "df = pd.DataFrame(data,columns =[\"Category\",\"Pizza_Types\"])\n",
    "df.head()"
   ]
  },
  {
   "cell_type": "markdown",
   "id": "563018c8-5575-4608-879f-36a2e163dd47",
   "metadata": {},
   "source": [
    "#  Group the orders by date and calculate the average number of pizzas ordered per day."
   ]
  },
  {
   "cell_type": "code",
   "execution_count": 60,
   "id": "fbeda310-ee60-47cf-b77b-8f99d40e04ec",
   "metadata": {},
   "outputs": [
    {
     "data": {
      "text/html": [
       "<div>\n",
       "<style scoped>\n",
       "    .dataframe tbody tr th:only-of-type {\n",
       "        vertical-align: middle;\n",
       "    }\n",
       "\n",
       "    .dataframe tbody tr th {\n",
       "        vertical-align: top;\n",
       "    }\n",
       "\n",
       "    .dataframe thead th {\n",
       "        text-align: right;\n",
       "    }\n",
       "</style>\n",
       "<table border=\"1\" class=\"dataframe\">\n",
       "  <thead>\n",
       "    <tr style=\"text-align: right;\">\n",
       "      <th></th>\n",
       "      <th>Avreage_pizza_order_per_day</th>\n",
       "    </tr>\n",
       "  </thead>\n",
       "  <tbody>\n",
       "    <tr>\n",
       "      <th>0</th>\n",
       "      <td>138</td>\n",
       "    </tr>\n",
       "  </tbody>\n",
       "</table>\n",
       "</div>"
      ],
      "text/plain": [
       "  Avreage_pizza_order_per_day\n",
       "0                         138"
      ]
     },
     "execution_count": 60,
     "metadata": {},
     "output_type": "execute_result"
    }
   ],
   "source": [
    "query =\"\"\"select round(avg(quantity),0)as Avreage_pizza_order_per_day from \n",
    "(select orders.order_date,sum(order_details.quantity) as quantity\n",
    "from orders left join order_details \n",
    "on orders.order_id = order_details.order_id\n",
    "group by orders.order_date) As order_quantity \"\"\"\n",
    "\n",
    "cur.execute(query)\n",
    "data = cur.fetchall()\n",
    "df = pd.DataFrame(data,columns =[\"Avreage_pizza_order_per_day\"])\n",
    "df.head()"
   ]
  },
  {
   "cell_type": "markdown",
   "id": "52ee180a-274f-404b-b347-f095e22952b3",
   "metadata": {},
   "source": [
    "#  Determine the top 3 most ordered pizza types based on revenue."
   ]
  },
  {
   "cell_type": "code",
   "execution_count": 61,
   "id": "483c24e4-83b7-4b6b-bb14-b9776d3ef3af",
   "metadata": {},
   "outputs": [
    {
     "data": {
      "text/html": [
       "<div>\n",
       "<style scoped>\n",
       "    .dataframe tbody tr th:only-of-type {\n",
       "        vertical-align: middle;\n",
       "    }\n",
       "\n",
       "    .dataframe tbody tr th {\n",
       "        vertical-align: top;\n",
       "    }\n",
       "\n",
       "    .dataframe thead th {\n",
       "        text-align: right;\n",
       "    }\n",
       "</style>\n",
       "<table border=\"1\" class=\"dataframe\">\n",
       "  <thead>\n",
       "    <tr style=\"text-align: right;\">\n",
       "      <th></th>\n",
       "      <th>Pizza Name</th>\n",
       "      <th>Revenue</th>\n",
       "    </tr>\n",
       "  </thead>\n",
       "  <tbody>\n",
       "    <tr>\n",
       "      <th>0</th>\n",
       "      <td>The Thai Chicken Pizza</td>\n",
       "      <td>43434.25</td>\n",
       "    </tr>\n",
       "    <tr>\n",
       "      <th>1</th>\n",
       "      <td>The Barbecue Chicken Pizza</td>\n",
       "      <td>42768.00</td>\n",
       "    </tr>\n",
       "    <tr>\n",
       "      <th>2</th>\n",
       "      <td>The California Chicken Pizza</td>\n",
       "      <td>41409.50</td>\n",
       "    </tr>\n",
       "  </tbody>\n",
       "</table>\n",
       "</div>"
      ],
      "text/plain": [
       "                    Pizza Name    Revenue\n",
       "0        The Thai Chicken Pizza  43434.25\n",
       "1    The Barbecue Chicken Pizza  42768.00\n",
       "2  The California Chicken Pizza  41409.50"
      ]
     },
     "execution_count": 61,
     "metadata": {},
     "output_type": "execute_result"
    }
   ],
   "source": [
    "query=\"\"\"Select pizza_types.name , sum(order_details.quantity*pizzas.price) as revenue \n",
    "from pizza_types join pizzas \n",
    "on pizza_types.pizza_type_id = pizzas.pizza_type_id\n",
    "join order_details on pizzas.pizza_id=order_details.pizza_id\n",
    "group by pizza_types.name\n",
    "order by revenue desc\n",
    "limit 3\"\"\"\n",
    "\n",
    "cur.execute(query)\n",
    "data = cur.fetchall()\n",
    "df = pd.DataFrame(data,columns =[\"Pizza Name \",\"Revenue\"])\n",
    "df.head()\n"
   ]
  },
  {
   "cell_type": "markdown",
   "id": "2a724250-670e-43dd-8d6c-e2271417ae4a",
   "metadata": {},
   "source": [
    "#  Calculate the percentage contribution of each pizza type to total revenue."
   ]
  },
  {
   "cell_type": "code",
   "execution_count": 62,
   "id": "ed86b2dc-ffb9-4036-974b-00fd2bb89690",
   "metadata": {},
   "outputs": [
    {
     "data": {
      "text/html": [
       "<div>\n",
       "<style scoped>\n",
       "    .dataframe tbody tr th:only-of-type {\n",
       "        vertical-align: middle;\n",
       "    }\n",
       "\n",
       "    .dataframe tbody tr th {\n",
       "        vertical-align: top;\n",
       "    }\n",
       "\n",
       "    .dataframe thead th {\n",
       "        text-align: right;\n",
       "    }\n",
       "</style>\n",
       "<table border=\"1\" class=\"dataframe\">\n",
       "  <thead>\n",
       "    <tr style=\"text-align: right;\">\n",
       "      <th></th>\n",
       "      <th>Category</th>\n",
       "      <th>Contribution</th>\n",
       "    </tr>\n",
       "  </thead>\n",
       "  <tbody>\n",
       "    <tr>\n",
       "      <th>0</th>\n",
       "      <td>Classic</td>\n",
       "      <td>26.91</td>\n",
       "    </tr>\n",
       "    <tr>\n",
       "      <th>1</th>\n",
       "      <td>Supreme</td>\n",
       "      <td>25.46</td>\n",
       "    </tr>\n",
       "    <tr>\n",
       "      <th>2</th>\n",
       "      <td>Chicken</td>\n",
       "      <td>23.96</td>\n",
       "    </tr>\n",
       "    <tr>\n",
       "      <th>3</th>\n",
       "      <td>Veggie</td>\n",
       "      <td>23.68</td>\n",
       "    </tr>\n",
       "  </tbody>\n",
       "</table>\n",
       "</div>"
      ],
      "text/plain": [
       "  Category   Contribution\n",
       "0   Classic         26.91\n",
       "1   Supreme         25.46\n",
       "2   Chicken         23.96\n",
       "3    Veggie         23.68"
      ]
     },
     "execution_count": 62,
     "metadata": {},
     "output_type": "execute_result"
    }
   ],
   "source": [
    "query=\"\"\"select pt.category,round((sum(od.quantity*p.price)/(select  round(sum(od.quantity*p.price ),2) as Total_revenue \n",
    "from order_details od \n",
    "join pizzas p on od.pizza_id = p.pizza_id))*100,2) as contribution\n",
    "from order_details od join pizzas p on od.pizza_id = p.pizza_id\n",
    "join pizza_types pt on pt.pizza_type_id = p.pizza_type_id\n",
    "group by category\n",
    "order by contribution desc\"\"\"\n",
    "\n",
    "cur.execute(query)\n",
    "data = cur.fetchall()\n",
    "df = pd.DataFrame(data,columns =[\"Category \",\"Contribution\"])\n",
    "df.head()\n"
   ]
  },
  {
   "cell_type": "markdown",
   "id": "019afea2-5d12-4fff-9acf-b9f00d9e15f0",
   "metadata": {},
   "source": [
    "#  Analyze the cumulative revenue generated over time."
   ]
  },
  {
   "cell_type": "code",
   "execution_count": 51,
   "id": "81f0906a-ce94-41af-ac8a-893c80f5821e",
   "metadata": {},
   "outputs": [
    {
     "data": {
      "text/html": [
       "<div>\n",
       "<style scoped>\n",
       "    .dataframe tbody tr th:only-of-type {\n",
       "        vertical-align: middle;\n",
       "    }\n",
       "\n",
       "    .dataframe tbody tr th {\n",
       "        vertical-align: top;\n",
       "    }\n",
       "\n",
       "    .dataframe thead th {\n",
       "        text-align: right;\n",
       "    }\n",
       "</style>\n",
       "<table border=\"1\" class=\"dataframe\">\n",
       "  <thead>\n",
       "    <tr style=\"text-align: right;\">\n",
       "      <th></th>\n",
       "      <th>Order Date</th>\n",
       "      <th>Cum_Quantity</th>\n",
       "    </tr>\n",
       "  </thead>\n",
       "  <tbody>\n",
       "    <tr>\n",
       "      <th>352</th>\n",
       "      <td>2015-12-26</td>\n",
       "      <td>809196.80</td>\n",
       "    </tr>\n",
       "    <tr>\n",
       "      <th>353</th>\n",
       "      <td>2015-12-27</td>\n",
       "      <td>810615.80</td>\n",
       "    </tr>\n",
       "    <tr>\n",
       "      <th>354</th>\n",
       "      <td>2015-12-28</td>\n",
       "      <td>812253.00</td>\n",
       "    </tr>\n",
       "    <tr>\n",
       "      <th>355</th>\n",
       "      <td>2015-12-29</td>\n",
       "      <td>813606.25</td>\n",
       "    </tr>\n",
       "    <tr>\n",
       "      <th>356</th>\n",
       "      <td>2015-12-30</td>\n",
       "      <td>814944.05</td>\n",
       "    </tr>\n",
       "    <tr>\n",
       "      <th>357</th>\n",
       "      <td>2015-12-31</td>\n",
       "      <td>817860.05</td>\n",
       "    </tr>\n",
       "  </tbody>\n",
       "</table>\n",
       "</div>"
      ],
      "text/plain": [
       "     Order Date  Cum_Quantity\n",
       "352  2015-12-26     809196.80\n",
       "353  2015-12-27     810615.80\n",
       "354  2015-12-28     812253.00\n",
       "355  2015-12-29     813606.25\n",
       "356  2015-12-30     814944.05\n",
       "357  2015-12-31     817860.05"
      ]
     },
     "execution_count": 51,
     "metadata": {},
     "output_type": "execute_result"
    }
   ],
   "source": [
    "query=\"\"\"select order_date, sum(revenue)over(order by Order_date) as cum_quantity from \n",
    "(Select orders.Order_date,sum(order_details.quantity*pizzas.price) as revenue\n",
    "from order_details\n",
    "join orders  on order_details.order_id = orders.Order_id\n",
    "join pizzas on order_details.pizza_id = pizzas.pizza_id\n",
    "group by orders.order_date) as sales\"\"\"\n",
    "\n",
    "cur.execute(query)\n",
    "data = cur.fetchall()\n",
    "df = pd.DataFrame(data,columns =[\"Order Date\",\"Cum_Quantity\"])\n",
    "df.head(6)\n",
    "df.tail(6)"
   ]
  },
  {
   "cell_type": "markdown",
   "id": "14cdf2b6-fd91-4d7c-997c-efecdcf7e6af",
   "metadata": {},
   "source": [
    "#  Determine the top 3 most ordered pizza types based on revenue for each pizza category."
   ]
  },
  {
   "cell_type": "code",
   "execution_count": 48,
   "id": "8442cdab-3e82-453d-ac6d-b7041cebdeee",
   "metadata": {},
   "outputs": [
    {
     "data": {
      "text/html": [
       "<div>\n",
       "<style scoped>\n",
       "    .dataframe tbody tr th:only-of-type {\n",
       "        vertical-align: middle;\n",
       "    }\n",
       "\n",
       "    .dataframe tbody tr th {\n",
       "        vertical-align: top;\n",
       "    }\n",
       "\n",
       "    .dataframe thead th {\n",
       "        text-align: right;\n",
       "    }\n",
       "</style>\n",
       "<table border=\"1\" class=\"dataframe\">\n",
       "  <thead>\n",
       "    <tr style=\"text-align: right;\">\n",
       "      <th></th>\n",
       "      <th>Category</th>\n",
       "      <th>Pizza Name</th>\n",
       "      <th>Revenue</th>\n",
       "      <th>Top 3</th>\n",
       "    </tr>\n",
       "  </thead>\n",
       "  <tbody>\n",
       "    <tr>\n",
       "      <th>0</th>\n",
       "      <td>Chicken</td>\n",
       "      <td>The Thai Chicken Pizza</td>\n",
       "      <td>43434.25</td>\n",
       "      <td>1</td>\n",
       "    </tr>\n",
       "    <tr>\n",
       "      <th>1</th>\n",
       "      <td>Chicken</td>\n",
       "      <td>The Barbecue Chicken Pizza</td>\n",
       "      <td>42768.00</td>\n",
       "      <td>2</td>\n",
       "    </tr>\n",
       "    <tr>\n",
       "      <th>2</th>\n",
       "      <td>Chicken</td>\n",
       "      <td>The California Chicken Pizza</td>\n",
       "      <td>41409.50</td>\n",
       "      <td>3</td>\n",
       "    </tr>\n",
       "    <tr>\n",
       "      <th>3</th>\n",
       "      <td>Chicken</td>\n",
       "      <td>The Southwest Chicken Pizza</td>\n",
       "      <td>34705.75</td>\n",
       "      <td>4</td>\n",
       "    </tr>\n",
       "  </tbody>\n",
       "</table>\n",
       "</div>"
      ],
      "text/plain": [
       "  Category                    Pizza Name   Revenue  Top 3\n",
       "0  Chicken        The Thai Chicken Pizza  43434.25      1\n",
       "1  Chicken    The Barbecue Chicken Pizza  42768.00      2\n",
       "2  Chicken  The California Chicken Pizza  41409.50      3\n",
       "3  Chicken   The Southwest Chicken Pizza  34705.75      4"
      ]
     },
     "execution_count": 48,
     "metadata": {},
     "output_type": "execute_result"
    }
   ],
   "source": [
    "query=\"\"\"select category,name , revenue,rank() over(partition by category order by revenue desc )as top3 from \n",
    "(select pizza_types.category , sum(order_details.quantity*pizzas.price) as revenue,pizza_types.name\n",
    "from pizza_types\n",
    "join pizzas on pizza_types.pizza_type_id = pizzas.pizza_type_id\n",
    "join order_details on pizzas.pizza_id = order_details.pizza_id\n",
    "group by pizza_types.category,pizza_types.name) as a \"\"\"\n",
    "\n",
    "cur.execute(query)\n",
    "data = cur.fetchall()\n",
    "df = pd.DataFrame(data,columns =[\"Category\",\"Pizza Name\",\"Revenue\",\"Top 3\"])\n",
    "df.head(4)"
   ]
  },
  {
   "cell_type": "code",
   "execution_count": null,
   "id": "97ad1964-9394-4261-8592-b5fc4327472b",
   "metadata": {},
   "outputs": [],
   "source": []
  }
 ],
 "metadata": {
  "kernelspec": {
   "display_name": "Python 3 (ipykernel)",
   "language": "python",
   "name": "python3"
  },
  "language_info": {
   "codemirror_mode": {
    "name": "ipython",
    "version": 3
   },
   "file_extension": ".py",
   "mimetype": "text/x-python",
   "name": "python",
   "nbconvert_exporter": "python",
   "pygments_lexer": "ipython3",
   "version": "3.12.7"
  }
 },
 "nbformat": 4,
 "nbformat_minor": 5
}
